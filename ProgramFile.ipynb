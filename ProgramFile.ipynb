{
 "cells": [
  {
   "cell_type": "code",
   "execution_count": 2,
   "metadata": {},
   "outputs": [],
   "source": [
    "import json\n",
    "import pandas as pd\n",
    "import numpy as np\n",
    "import matplotlib as mp"
   ]
  },
  {
   "cell_type": "code",
   "execution_count": 5,
   "metadata": {},
   "outputs": [
    {
     "name": "stdout",
     "output_type": "stream",
     "text": [
      "                                                        rates   start_at base  \\\n",
      "2019-01-02  {'CAD': 1.5547, 'HKD': 8.9294, 'ISK': 133.4, '... 2019-01-01  EUR   \n",
      "2019-01-03  {'CAD': 1.5392000000000001, 'HKD': 8.8884, 'IS... 2019-01-01  EUR   \n",
      "2019-01-04  {'CAD': 1.5328, 'HKD': 8.9325, 'ISK': 134.0, '... 2019-01-01  EUR   \n",
      "2019-01-07  {'CAD': 1.5281, 'HKD': 8.9677, 'ISK': 135.2, '... 2019-01-01  EUR   \n",
      "2019-01-08  {'CAD': 1.5208, 'HKD': 8.9671, 'ISK': 136.1, '... 2019-01-01  EUR   \n",
      "...                                                       ...        ...  ...   \n",
      "2019-12-23  {'CAD': 1.4577, 'HKD': 8.6232, 'ISK': 135.4, '... 2019-01-01  EUR   \n",
      "2019-12-24  {'CAD': 1.4582, 'HKD': 8.629, 'ISK': 135.6, 'P... 2019-01-01  EUR   \n",
      "2019-12-27  {'CAD': 1.4592, 'HKD': 8.6845, 'ISK': 135.6, '... 2019-01-01  EUR   \n",
      "2019-12-30  {'CAD': 1.4621, 'HKD': 8.7133, 'ISK': 135.8, '... 2019-01-01  EUR   \n",
      "2019-12-31  {'CAD': 1.4598, 'HKD': 8.7473, 'ISK': 135.8, '... 2019-01-01  EUR   \n",
      "\n",
      "               end_at  \n",
      "2019-01-02 2019-12-31  \n",
      "2019-01-03 2019-12-31  \n",
      "2019-01-04 2019-12-31  \n",
      "2019-01-07 2019-12-31  \n",
      "2019-01-08 2019-12-31  \n",
      "...               ...  \n",
      "2019-12-23 2019-12-31  \n",
      "2019-12-24 2019-12-31  \n",
      "2019-12-27 2019-12-31  \n",
      "2019-12-30 2019-12-31  \n",
      "2019-12-31 2019-12-31  \n",
      "\n",
      "[255 rows x 4 columns]\n"
     ]
    }
   ],
   "source": [
    "data = pd.read_json(\"data.json\")\n",
    "latest = pd.read_json(\"latest-rates.json\")\n",
    "df = pd.DataFrame(data)\n",
    "print(df)"
   ]
  },
  {
   "cell_type": "code",
   "execution_count": null,
   "metadata": {},
   "outputs": [],
   "source": []
  }
 ],
 "metadata": {
  "kernelspec": {
   "display_name": "Python 3",
   "language": "python",
   "name": "python3"
  },
  "language_info": {
   "codemirror_mode": {
    "name": "ipython",
    "version": 3
   },
   "file_extension": ".py",
   "mimetype": "text/x-python",
   "name": "python",
   "nbconvert_exporter": "python",
   "pygments_lexer": "ipython3",
   "version": "3.7.6"
  }
 },
 "nbformat": 4,
 "nbformat_minor": 4
}
